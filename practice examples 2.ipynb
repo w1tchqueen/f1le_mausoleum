{
  "cells": [
    {
      "metadata": {
        "collapsed": true
      },
      "cell_type": "markdown",
      "source": "# 1.1 String Sequences"
    },
    {
      "metadata": {},
      "cell_type": "markdown",
      "source": "Access a single character of a string using a string index address.\n\n- Sequences index items, counting from 0 for the first item\n    - Counting from 0 is a common way computer do calculations\n- Use a negative index to count backwards from the last character, which is -1\n\nAccessing with the index address a piece of a variable:"
    },
    {
      "metadata": {
        "trusted": true
      },
      "cell_type": "code",
      "source": "student_name = \"Alton\"\nprint(student_name[2])\nprint(student_name[-2])",
      "execution_count": 4,
      "outputs": [
        {
          "output_type": "stream",
          "text": "t\no\n",
          "name": "stdout"
        }
      ]
    },
    {
      "metadata": {
        "slideshow": {
          "slide_type": "slide"
        }
      },
      "cell_type": "markdown",
      "source": "If you try to access a character further out than the number of characters in the string, you will get: IndexError: string index out of range."
    },
    {
      "metadata": {},
      "cell_type": "markdown",
      "source": "Example for Accessing a Single String Character: \nCreate a variable team_name with user input. ASk that the second letter be \"i\", \"o\", or \"u\". Conduct the test and print a related message."
    },
    {
      "metadata": {
        "trusted": true
      },
      "cell_type": "code",
      "source": "while True:\n    team_name = input(\"Name your team. The second letter must be an 'i', 'o', or 'u'.: \")\n    if team_name.lower()[1] == \"i\":\n        print(\"Welcome, team\",team_name.title() + \"!\")\n        break\n    elif team_name.lower()[1] == \"o\":\n        print(\"Welcome, team\",team_name.title() + \"!\")\n        break\n    elif team_name.lower()[1] == \"i\":\n        print(\"Welcome, team\",team_name.title() + \"!\")\n        break\n    else:\n        print(\"Sorry, invalid name.\")",
      "execution_count": 3,
      "outputs": [
        {
          "output_type": "stream",
          "name": "stdout",
          "text": "Name your team. The second letter must be an 'i', 'o', or 'u'.: ramones\nSorry, invalid name.\nName your team. The second letter must be an 'i', 'o', or 'u'.: goop\nWelcome, team Goop!\n"
        }
      ]
    },
    {
      "metadata": {},
      "cell_type": "markdown",
      "source": "# 1.2 Index Slicing"
    },
    {
      "metadata": {},
      "cell_type": "markdown",
      "source": "String slicing returns a string section by addressing the start and stop indexes.\nFor \"variable[2,5]\", the slice starts at index 2 and ends before but not including index 5 (eg. if variable = \"variable\", RIA)\n\n- If you go out of range, you WON'T get an IndexError, it will just include what is there, then stop\n- You can leave out the start index to imply 0 \n- Likewise, you can access the end of the word by leaving the end index blank\n    - [:] returns the entire string\n"
    },
    {
      "metadata": {
        "trusted": true
      },
      "cell_type": "code",
      "source": "long_word = \"characteristics\"\nprint(long_word[4:7],long_word[-4:-1])",
      "execution_count": 7,
      "outputs": [
        {
          "output_type": "stream",
          "text": "act tic\n",
          "name": "stdout"
        }
      ]
    },
    {
      "metadata": {},
      "cell_type": "markdown",
      "source": "Adding a third index number [::x] allows you to access by the string by step size: getting every other character, or some other interval of characters.\n\n- [::2] returns index 0, and then every other character (evens) in the string\n- [1::2] returns index 1, and then every other character (odds) in the string\n- A step number of \"-1\" prints the string backwards"
    },
    {
      "metadata": {
        "trusted": true
      },
      "cell_type": "code",
      "source": "long_word = \"americano\"\nprint(long_word[::-1])\nprint(long_word[3::-1])",
      "execution_count": 6,
      "outputs": [
        {
          "output_type": "stream",
          "text": "onacirema\nrema\n",
          "name": "stdout"
        }
      ]
    },
    {
      "metadata": {},
      "cell_type": "markdown",
      "source": "For long_word = timeline:\n\n- to print the first 4 letters:\n    long_word[:4]\n- to print the first 4 letters, in reverse:\n    long_word[3::-1]\n- to print the last 4 letters, in reverse:\n    long_word[:3:-1]\n- to print the letters spanning indexes 3-6, in reverse:\n    long_word[6:2:-1]"
    },
    {
      "metadata": {},
      "cell_type": "markdown",
      "source": "# 1.3 Iterating Strings"
    },
    {
      "metadata": {},
      "cell_type": "markdown",
      "source": "Iterating a string one letter at a time, using a for loop:\n\n(\"letter\" is an arbitrary variable, you can replace it with any other validly formed variable and it will have the same effect)"
    },
    {
      "metadata": {
        "trusted": true
      },
      "cell_type": "code",
      "source": "word = \"cello\"\nfor letter in word:\n    print(letter)",
      "execution_count": 9,
      "outputs": [
        {
          "output_type": "stream",
          "text": "c\ne\nl\nl\no\n",
          "name": "stdout"
        }
      ]
    },
    {
      "metadata": {},
      "cell_type": "markdown",
      "source": "Example: program \"capitalize-io\":\nGet user input for first_name, create empty string variable new_name. Iterate letters of first_namea and add each iterated letter to new_name, capitalizing iterations of 'i' and 'o'. Print the new name. "
    },
    {
      "metadata": {
        "trusted": true
      },
      "cell_type": "code",
      "source": "first_name = input(\"What is your first name?: \")\nnew_name = \"\"\n\nfor letter in first_name:\n    if letter == \"i\":\n        print(letter)\n        letter = letter.upper()\n        new_name += letter.upper()\n    elif letter == \"o\":\n        print(letter)\n        letter = letter.upper()\n        new_name += letter.upper()\n    else:\n        print(letter)\n        new_name += letter\nprint(new_name)",
      "execution_count": 10,
      "outputs": [
        {
          "output_type": "stream",
          "name": "stdout",
          "text": "What is your first name?: cara\nc\na\nr\na\ncara\n"
        }
      ]
    },
    {
      "metadata": {},
      "cell_type": "markdown",
      "source": "We can iterate through sub-strings by using a combination of string slicing and for/in loop."
    },
    {
      "metadata": {
        "trusted": true
      },
      "cell_type": "code",
      "source": "student_name = \"cara\"\nfor letter in student_name[::-1]:\n    print(letter)",
      "execution_count": 15,
      "outputs": [
        {
          "output_type": "stream",
          "text": "a\nr\na\nc\n",
          "name": "stdout"
        }
      ]
    },
    {
      "metadata": {},
      "cell_type": "markdown",
      "source": "# 1.4 String Methods"
    },
    {
      "metadata": {},
      "cell_type": "markdown",
      "source": "### String method: len( ) \nUsed to return the length of a string"
    },
    {
      "metadata": {
        "trusted": true
      },
      "cell_type": "code",
      "source": "work_tip = \"save your code\"\nlen(work_tip)",
      "execution_count": 16,
      "outputs": [
        {
          "output_type": "execute_result",
          "execution_count": 16,
          "data": {
            "text/plain": "14"
          },
          "metadata": {}
        }
      ]
    },
    {
      "metadata": {
        "trusted": true
      },
      "cell_type": "code",
      "source": "work_tip = \"good code is commented code\"\ntip_len = len(work_tip)\nmid_pt = int(tip_len/2)\nprint(work_tip[:mid_pt])\nprint(work_tip[mid_pt:])",
      "execution_count": 17,
      "outputs": [
        {
          "output_type": "stream",
          "text": "good code is \ncommented code\n",
          "name": "stdout"
        }
      ]
    },
    {
      "metadata": {},
      "cell_type": "markdown",
      "source": "### String method: .find( )\n\nUsed to find the index number of the location of a character or a substring \n\n- returns a -1 if index no match found\n- Useful because you can move within a string once you have the index location"
    },
    {
      "metadata": {
        "trusted": true
      },
      "cell_type": "code",
      "source": "work_tip = \"good code has meaningful variable names\"\nprint(work_tip)\ncode_here = work_tip.find(\"code\")\nprint(code_here,\"= start index for 'code'\")",
      "execution_count": 18,
      "outputs": [
        {
          "output_type": "stream",
          "text": "good code has meaningful variable names\n5 = start index for 'code'\n",
          "name": "stdout"
        }
      ]
    },
    {
      "metadata": {},
      "cell_type": "markdown",
      "source": "When looking for multiple instances of a character, use a **while loop - while location >= 0**, because when there's no match, the .find() function will return '-1' and break the loop"
    },
    {
      "metadata": {
        "trusted": true
      },
      "cell_type": "code",
      "source": "work_tip = \"good code is commented code\"\nlocation = work_tip.find(\"o\")\nwhile location >= 0:\n    print(\"'o' found at index = \",location)\n    location = work_tip.find(\"o\",location + 1)\nprint(\"No more 'o's found; -1 returned\")",
      "execution_count": 20,
      "outputs": [
        {
          "output_type": "stream",
          "text": "'o' found at index =  1\n'o' found at index =  2\n'o' found at index =  6\n'o' found at index =  14\n'o' found at index =  24\nNo more 'o's found; -1 returned\n",
          "name": "stdout"
        }
      ]
    },
    {
      "metadata": {},
      "cell_type": "markdown",
      "source": "The above function has two arguments when its used inside the while loop: argument 1 tells what you're looking for, argument 2 tells you where to start looking"
    },
    {
      "metadata": {},
      "cell_type": "markdown",
      "source": "Task: print each word in a quote:"
    },
    {
      "metadata": {
        "trusted": true
      },
      "cell_type": "code",
      "source": "quote = \"they who stumble run fast\"\nspace = quote.find(\" \")\nstart = 0\nwhile space != -1:\n    print(quote[start:space])\n    start = space + 1\n    space = quote.find(\" \",space+1)",
      "execution_count": 21,
      "outputs": [
        {
          "output_type": "stream",
          "text": "they\nwho\nstumble\nrun\n",
          "name": "stdout"
        }
      ]
    },
    {
      "metadata": {},
      "cell_type": "markdown",
      "source": "# 2.1 List Sequences\n\nA list of variable values can be assigned in brackets, seperated by commas.\n \n - A type() function will return class 'list'\n - When printed, it will return all of its values in brackets, seperated by commas.\n - A list can contain a mixture of value types, and even other lists\n - Objects in the list can be accessed via index:\n     - Zero-based index\n     - You can use string methods like .title() on list items that are strings (but not on the list itself\n     - Negative indexes can be used\n - Similarly, mathematical operators can be used on items in the list that are integers or floats, but not on the list itself"
    },
    {
      "metadata": {},
      "cell_type": "markdown",
      "source": "# 2.2 Adding to a List: .append( )\n\nUsed to add to the end of a list; items may be of different types."
    },
    {
      "metadata": {
        "trusted": true
      },
      "cell_type": "code",
      "source": "sample_list = [1,2,3,4]\nsample_list.append(5)\nprint(sample_list)",
      "execution_count": 22,
      "outputs": [
        {
          "output_type": "stream",
          "text": "[1, 2, 3, 4, 5]\n",
          "name": "stdout"
        }
      ]
    },
    {
      "metadata": {},
      "cell_type": "markdown",
      "source": "# 2.3 Adding to a List: List Insert\n\nReplaces items in a list by addressing their indexes. You can also add on to an item in the list this way, or change the item type\n\n- It can also be used to append if you address it with any number greater than than the last existing index"
    },
    {
      "metadata": {
        "trusted": true
      },
      "cell_type": "code",
      "source": "party_list = ['Alton','Joana','Tobias']\nparty_list[2] = 'Colette'\nparty_list [0] = party_list[0] + ' DeRosa'\nparty_list\n",
      "execution_count": 25,
      "outputs": [
        {
          "output_type": "execute_result",
          "execution_count": 25,
          "data": {
            "text/plain": "['Alton DeRosa', 'Joana', 'Colette']"
          },
          "metadata": {}
        }
      ]
    },
    {
      "metadata": {},
      "cell_type": "markdown",
      "source": "# 2.4 List Delete\n\nthe **del statement**:"
    },
    {
      "metadata": {
        "trusted": true
      },
      "cell_type": "code",
      "source": "the_list = ['a','b','c','d']\ndel the_list[1]\nprint(the_list)",
      "execution_count": 27,
      "outputs": [
        {
          "output_type": "stream",
          "text": "['a', 'c', 'd']\n",
          "name": "stdout"
        }
      ]
    },
    {
      "metadata": {},
      "cell_type": "markdown",
      "source": "the **.pop() method** both returns and deletes an item on the list.\n\n- if the parentheses are left empty, it will act on the last item of the list\n- you can store the things you pop off of a list in a variable. "
    },
    {
      "metadata": {
        "trusted": true
      },
      "cell_type": "code",
      "source": "number_list = [11, 21, 13, 14, 51, 161, 117, 181]\nprint(\"list before:\", number_list)\nnum_1 = number_list.pop()\nnum_2 = number_list.pop()\nprint(\"list after :\", number_list)\nprint(\"add the popped values:\", num_1, \"+\", num_2, \"=\", num_1 + num_2)",
      "execution_count": 1,
      "outputs": [
        {
          "output_type": "stream",
          "text": "list before: [11, 21, 13, 14, 51, 161, 117, 181]\nlist after : [11, 21, 13, 14, 51, 161]\nadd the popped values: 181 + 117 = 298\n",
          "name": "stdout"
        }
      ]
    },
    {
      "metadata": {},
      "cell_type": "markdown",
      "source": "### Using a list as a conditional flag (argument)\nIn a **while loop**, a populated list returns *True* and an empty list returns *False"
    },
    {
      "metadata": {
        "trusted": true
      },
      "cell_type": "code",
      "source": "dog_types = [\"poodle\",\"pug\",\"lab\"]\nwhile dog_types:\n    print(dog_types.pop().title(),\"popped; List now:\",dog_types)",
      "execution_count": 5,
      "outputs": [
        {
          "output_type": "stream",
          "text": "Lab popped; List now: ['poodle', 'pug']\nPug popped; List now: ['poodle']\nPoodle popped; List now: []\n",
          "name": "stdout"
        }
      ]
    },
    {
      "metadata": {},
      "cell_type": "markdown",
      "source": "The **.remove( )** function allows you to delete a specific object from a list without needing to know its index number."
    },
    {
      "metadata": {
        "trusted": true
      },
      "cell_type": "code",
      "source": "dog_types = [\"poodle\",\"pug\",\"lab\",\"corgi\"]\nif \"lab\" in dog_types:\n    dog_types.remove(\"lab\")\n    print(\"lab removed\")\nelse:\n    print(\"dog type not found\")",
      "execution_count": 8,
      "outputs": [
        {
          "output_type": "stream",
          "text": "lab removed\n",
          "name": "stdout"
        }
      ]
    },
    {
      "metadata": {
        "trusted": true
      },
      "cell_type": "code",
      "source": "while \"poodle\" in dog_types:\n    dog_types.remove(\"poodle\")\n    print(dog_types)",
      "execution_count": 10,
      "outputs": [
        {
          "output_type": "stream",
          "text": "['pug', 'corgi']\n",
          "name": "stdout"
        }
      ]
    },
    {
      "metadata": {},
      "cell_type": "markdown",
      "source": "### MOD2 Coding Assignment"
    },
    {
      "metadata": {
        "trusted": true
      },
      "cell_type": "code",
      "source": "def list_o_matic():\n    if new_color == \"\":\n        return print(colors.pop(),\"popped from the list.\")\n    elif new_color in colors:\n        colors.remove(new_color)\n        return print(\"One instance of\",new_color,\"removed from the list.\")\n    else:\n        colors.append(new_color)\n        return print(\"One instance of\",new_color,\"added to the list.\")\n\n\ncolors = [\"red\",\"yellow\",\"blue\",\"violet\"]\nwhile colors:\n    new_color = input(\"Enter a color, or 'quit' to exit: \")\n    if 'quit' in new_color:\n        break\n    else:\n        list_o_matic()\nprint(\"You have exited the program.\")",
      "execution_count": null,
      "outputs": []
    },
    {
      "metadata": {},
      "cell_type": "markdown",
      "source": "# 3.1 Power of List Iteration\n\n### for/in Loops\n\n-iterate through each item in a list using for/in loops"
    },
    {
      "metadata": {
        "trusted": true
      },
      "cell_type": "code",
      "source": "sales = [666,66,6,13,133,1333]\ntotal = 0\nfor sale in sales:\n    total += sale\nprint(total)\n",
      "execution_count": 21,
      "outputs": [
        {
          "output_type": "stream",
          "text": "2217\n",
          "name": "stdout"
        }
      ]
    },
    {
      "metadata": {},
      "cell_type": "markdown",
      "source": "### Sort/Filter\n\nWhen iterating a list, use comparison operators to sort and filter\n#### To sort into strings, use +=\n#### To sort into lists, use .append( )\n\n- Start both by initializing an empty variable:\n \n variable = \"\"\n   \n variable = []"
    },
    {
      "metadata": {
        "trusted": true
      },
      "cell_type": "code",
      "source": "cities = [\"NYC\",\"LA\",\"Amsterdam\",\"Trenton\",\"Albany\",\"Waukesha\"]\na_cities = \"\"\nnot_a_cities = \"\"\nfor city in cities:\n    if city.startswith('A'):\n        a_cities += city\n    else:\n        not_a_cities += city\nprint(\"'A' Cities:\",a_cities)\nprint(\"Others:\",not_a_cities)",
      "execution_count": 16,
      "outputs": [
        {
          "output_type": "stream",
          "text": "'A' Cities: AmsterdamAlbany\nOthers: NYCLATrentonWaukesha\n",
          "name": "stdout"
        }
      ]
    },
    {
      "metadata": {
        "trusted": true
      },
      "cell_type": "code",
      "source": "cities = [\"NYC\",\"LA\",\"Amsterdam\",\"Trenton\",\"Albany\",\"Waukesha\"]\na_list = []\nnot_a_list = []\nfor city in cities:\n    if city.startswith(\"A\"):\n        a_list.append(city)\n    else:\n        not_a_list.append(city)\nprint(\"'A' Cities:\",a_list)\nprint(\"Others:\",not_a_list)\n",
      "execution_count": 18,
      "outputs": [
        {
          "output_type": "stream",
          "text": "'A' Cities: ['Amsterdam', 'Albany']\nOthers: ['NYC', 'LA', 'Trenton', 'Waukesha']\n",
          "name": "stdout"
        }
      ]
    },
    {
      "metadata": {},
      "cell_type": "markdown",
      "source": "### Count & Search"
    },
    {
      "metadata": {
        "trusted": true
      },
      "cell_type": "code",
      "source": "cities = [\"NYC\",\"LA\",\"Amsterdam\",\"Trenton\",\"Albany\",\"Waukesha\"]\nsearch_letter = \"a\"\ntotal = 0\nfor city in cities:\n    total += city.lower().count(search_letter)\nprint(\"The total number of '\" + search_letter + \"'s is:\",total)",
      "execution_count": 20,
      "outputs": [
        {
          "output_type": "stream",
          "text": "The total number of 'a's is: 7\n",
          "name": "stdout"
        }
      ]
    },
    {
      "metadata": {},
      "cell_type": "markdown",
      "source": "# 3.2 Range Iteration"
    },
    {
      "metadata": {},
      "cell_type": "markdown",
      "source": "### range( stop )\n\nCreate a numeric counting sequence using the range function with the \"stop\" argument"
    },
    {
      "metadata": {
        "trusted": true
      },
      "cell_type": "code",
      "source": "spell_list = [\"Tuesday\", \"Wednesday\", \"February\", \"November\", \"Annual\", \"Calendar\", \"Solstice\"]\nhalf_1 = int(len(spell_list)/2)\n\nfor word in range(half_1):\n    print(spell_list[word])",
      "execution_count": 22,
      "outputs": [
        {
          "output_type": "stream",
          "text": "Tuesday\nWednesday\nFebruary\n",
          "name": "stdout"
        }
      ]
    },
    {
      "metadata": {
        "trusted": true
      },
      "cell_type": "code",
      "source": "spell_list = [\"Wednesday\", \"Tuesday\", \"February\", \"November\", \"Annual\", \"Calendar\", \"Solstice\"]\nfirst_half = int(len(spell_list)/2)\nend_list = spell_list[first_half:]\nlast_half = len(end_list)\n\nfor word in range(last_half):\n    print(spell_list[word])",
      "execution_count": 23,
      "outputs": [
        {
          "output_type": "stream",
          "text": "Wednesday\nTuesday\nFebruary\nNovember\n",
          "name": "stdout"
        }
      ]
    },
    {
      "metadata": {},
      "cell_type": "markdown",
      "source": "### range( start, stop, step )\n\n(start, stop) creates a specific span of a counting sequence\n(start, stop, step) adds an interval--like \"[::2]\" in list iteration"
    },
    {
      "metadata": {
        "trusted": true
      },
      "cell_type": "code",
      "source": "odd_list = list(range(1,20,2))\nprint(odd_list)",
      "execution_count": 24,
      "outputs": [
        {
          "output_type": "stream",
          "text": "[1, 3, 5, 7, 9, 11, 13, 15, 17, 19]\n",
          "name": "stdout"
        }
      ]
    },
    {
      "metadata": {},
      "cell_type": "markdown",
      "source": "# 3.3 Extend, Reverse, Sort Methods\n\n### Combining lists\n\nLists can be combined with **string concatenation** (+) or **.extend( )**\n\n- using \"+\" will makes a new list from two separate lists\n- .extend( ) makes an existing list longer"
    },
    {
      "metadata": {
        "trusted": true
      },
      "cell_type": "code",
      "source": "team_a = [0,2,2,2,4,4,4,5,6,6,6]\nteam_b = [0,0,0,1,1,2,3,3,3,6,8]\nprint(\"Team A:\", team_a, \"\\nTeam B:\",team_b)\n\n# (+) Addition operator \nteam_totals = team_a + team_b\nprint(\"Team Totals\", team_totals)",
      "execution_count": 25,
      "outputs": [
        {
          "output_type": "stream",
          "text": "Team A: [0, 2, 2, 2, 4, 4, 4, 5, 6, 6, 6] \nTeam B: [0, 0, 0, 1, 1, 2, 3, 3, 3, 6, 8]\nTeam Totals [0, 2, 2, 2, 4, 4, 4, 5, 6, 6, 6, 0, 0, 0, 1, 1, 2, 3, 3, 3, 6, 8]\n",
          "name": "stdout"
        }
      ]
    },
    {
      "metadata": {
        "trusted": true
      },
      "cell_type": "code",
      "source": "common_birds = [\"chicken\", \"blue jay\", \"crow\", \"pigeon\"]\nbirds_seen = [\"bat(jk)\", \"pterodactyl\",\"dee\"]\ncommon_birds.extend(birds_seen)\n\nfor bird in common_birds:\n    print(bird)",
      "execution_count": 26,
      "outputs": [
        {
          "output_type": "stream",
          "text": "chicken\nblue jay\ncrow\npigeon\nbat(jk)\npterodactyl\ndee\n",
          "name": "stdout"
        }
      ]
    },
    {
      "metadata": {},
      "cell_type": "markdown",
      "source": "### .reverse( ) method\n\n- reverses the list order in place\n- takes no arguments"
    },
    {
      "metadata": {
        "trusted": true
      },
      "cell_type": "code",
      "source": "cities_1 = [\"Dubai\", \"Mexico City\", \"São Paulo\", \"Hyderabad\"]\n\nprint(\"regular\", cities_1)\ncities_1.reverse()\nprint(\"reversed\", cities_1)",
      "execution_count": 27,
      "outputs": [
        {
          "output_type": "stream",
          "text": "regular ['Dubai', 'Mexico City', 'São Paulo', 'Hyderabad']\nreversed ['Hyderabad', 'São Paulo', 'Mexico City', 'Dubai']\n",
          "name": "stdout"
        }
      ]
    },
    {
      "metadata": {},
      "cell_type": "markdown",
      "source": "### sorted( ) and .sort( ) methods\n\n- .sort( ) sorts lists in place: a permanent change of list values\n- sorted( ) **returns** the list in sorted order: an impermanent change"
    },
    {
      "metadata": {
        "trusted": true
      },
      "cell_type": "code",
      "source": "quiz_scores = [20, 19, 20, 15, 20, 20, 20, 18, 18, 18, 19]\n\nquiz_scores.sort()\nprint(\"quiz_scores:\", quiz_scores)",
      "execution_count": 28,
      "outputs": [
        {
          "output_type": "stream",
          "text": "quiz_scores: [15, 18, 18, 18, 19, 19, 20, 20, 20, 20, 20]\n",
          "name": "stdout"
        }
      ]
    },
    {
      "metadata": {
        "trusted": true
      },
      "cell_type": "code",
      "source": "game_points = [3, 14, 0, 8, 21, 1, 3, 8]\nsorted_points = sorted(game_points)\n\nprint(\"game_points:\", game_points)\nprint(\"sorted_points:\", sorted_points)",
      "execution_count": 29,
      "outputs": [
        {
          "output_type": "stream",
          "text": "game_points: [3, 14, 0, 8, 21, 1, 3, 8]\nsorted_points: [0, 1, 3, 3, 8, 8, 14, 21]\n",
          "name": "stdout"
        }
      ]
    },
    {
      "metadata": {},
      "cell_type": "markdown",
      "source": "# 3.4 Converting Between Strings and Lists\n\n### .split( ) method\n\nSplits on space characters (\" \")"
    },
    {
      "metadata": {
        "trusted": true
      },
      "cell_type": "code",
      "source": "rhyme = \"London bridge is falling down\"\nrhyme_words = rhyme.split()\n\nfor word in rhyme_words:\n    print(word)",
      "execution_count": 30,
      "outputs": [
        {
          "output_type": "stream",
          "text": "London\nbridge\nis\nfalling\ndown\n",
          "name": "stdout"
        }
      ]
    },
    {
      "metadata": {},
      "cell_type": "markdown",
      "source": "### .split( ) with argument\n\n- .split(\"-\") still splits on the space characters\n- .split(\"a\") splits at the \"a\"s, removing the \"a\"s entirely"
    },
    {
      "metadata": {
        "trusted": true
      },
      "cell_type": "code",
      "source": "poem = \"Write code frequently*Save code frequently*Comment code frequently*Study code frequently*\"\npoem_list = poem.split('*')\nfor item in poem_list:\n    print(item.title())",
      "execution_count": 31,
      "outputs": [
        {
          "output_type": "stream",
          "text": "Write Code Frequently\nSave Code Frequently\nComment Code Frequently\nStudy Code Frequently\n\n",
          "name": "stdout"
        }
      ]
    },
    {
      "metadata": {},
      "cell_type": "markdown",
      "source": "### .join( ) method\n\nBuilds a single string from a list\n\n- \"\".join(list_name) will join but add no characters between list items\n- \" \".join(list_name) seperated the items with spaces, etc. etc."
    },
    {
      "metadata": {
        "trusted": true
      },
      "cell_type": "code",
      "source": "letters = [\"A\", \"s\", \"t\", \"e\", \"r\", \"i\", \"s\", \"k\"]\nprint(\"*\".join(letters))\nstar = \"*\"\nprint(star.join(letters))",
      "execution_count": 32,
      "outputs": [
        {
          "output_type": "stream",
          "text": "A*s*t*e*r*i*s*k\nA*s*t*e*r*i*s*k\n",
          "name": "stdout"
        }
      ]
    },
    {
      "metadata": {
        "trusted": true
      },
      "cell_type": "code",
      "source": "dash = \"-\"\nspace = \" \"\nword = \"Iteration\"\nellipises = \"...\"\n\ndash_join = dash.join(word)\nprint(dash_join)\nprint(space.join(word))\nprint(ellipises.join(word))",
      "execution_count": 33,
      "outputs": [
        {
          "output_type": "stream",
          "text": "I-t-e-r-a-t-i-o-n\nI t e r a t i o n\nI...t...e...r...a...t...i...o...n\n",
          "name": "stdout"
        }
      ]
    },
    {
      "metadata": {},
      "cell_type": "markdown",
      "source": "### Casting a string into a list of characters"
    },
    {
      "metadata": {
        "trusted": true
      },
      "cell_type": "code",
      "source": "hello_letters = list(\"Hello\")\nprint(hello_letters)",
      "execution_count": 34,
      "outputs": [
        {
          "output_type": "stream",
          "text": "['H', 'e', 'l', 'l', 'o']\n",
          "name": "stdout"
        }
      ]
    },
    {
      "metadata": {},
      "cell_type": "markdown",
      "source": "### MOD3 Coding Assignment"
    },
    {
      "metadata": {
        "trusted": true
      },
      "cell_type": "code",
      "source": "def word_mixer(word_list):\n    word_list.sort()\n    new_words = []\n    while len(word_list) > 5:\n        new_words.append(word_list.pop(-5))\n        new_words.append(word_list.pop(0))\n        new_words.append(word_list.pop())\n        new_words += \"\\n\"\n    return \" \".join(new_words)\n\npoem = input(\"Enter a passage: \")\nword_list = poem.split()\npoem_length = len(word_list)\nfor index in range(poem_length):\n    if len(word_list[index]) <= 3:\n        word_list[index] = word_list[index].lower()\n    elif len(word_list[index]) >= 7:\n        word_list[index] = word_list[index].upper()\n    else:\n        pass\nprint(word_mixer(word_list))\n",
      "execution_count": null,
      "outputs": []
    },
    {
      "metadata": {},
      "cell_type": "markdown",
      "source": "# 4.1 Importing, Opening, and Reading Files\n\n### Importing\n \n - **curl** imports files fom a web address into the jupyter session:\n "
    },
    {
      "metadata": {
        "trusted": true
      },
      "cell_type": "code",
      "source": "!curl www.url.com -o chooseafilename.txt",
      "execution_count": 35,
      "outputs": [
        {
          "output_type": "stream",
          "text": "  % Total    % Received % Xferd  Average Speed   Time    Time     Time  Current\n                                 Dload  Upload   Total   Spent    Left  Speed\n100  3488  100  3488    0     0     82      0  0:00:42  0:00:42 --:--:--   883  0:00:06 --:--:--     0\n",
          "name": "stdout"
        }
      ]
    },
    {
      "metadata": {},
      "cell_type": "markdown",
      "source": "- !: runs the command interface supporting the curl function\n- curl: enables the curl function that downloads files\n- www.url.com: is where you enter the address for the data file to import\n- -o: tells curl to write data for a file\n- chooseafilename.txt: the name curl will give the file"
    },
    {
      "metadata": {},
      "cell_type": "markdown",
      "source": "### Opening a file in read mode\n\nOnce you've imported the file into Jupyter, we need to open that file to make it addressable by Python with the **open( )** command\n\nopen( ) takes two parameters: the name of the imported file to be accessed and the initial for the mode we want to open it in.\n    - The modes are:\n    -'r' : read\n    -'w' : write\n    -'w+' : write plus read\n    -'r+' : read plus write\n    -'a' : append\n    -'a+' : append plus read\n\nRead mode allows access to the file for reading with the file locked to re-writes. "
    },
    {
      "metadata": {
        "trusted": true
      },
      "cell_type": "markdown",
      "source": "### .read( ) method\n\n- use to read an open file by assigning it to a new variable\n- the text will be imported as a string, including whitespace characters like spaces and '\\n's\n- echo the variable to see the string; print the variable to see its formatting"
    },
    {
      "metadata": {
        "trusted": true
      },
      "cell_type": "code",
      "source": "!curl https://raw.githubusercontent.com/MicrosoftLearning/intropython/master/cities -o cities.txt\ncities_file = open('cities.txt','r')\nprint(cities_file)\ncities = cities_file.read()\ncities",
      "execution_count": 2,
      "outputs": [
        {
          "output_type": "stream",
          "text": "  % Total    % Received % Xferd  Average Speed   Time    Time     Time  Current\n                                 Dload  Upload   Total   Spent    Left  Speed\n100    56  100    56    0     0    370      0 --:--:-- --:--:-- --:--:--   373\n<_io.TextIOWrapper name='cities.txt' mode='r' encoding='UTF-8'>\n",
          "name": "stdout"
        },
        {
          "output_type": "execute_result",
          "execution_count": 2,
          "data": {
            "text/plain": "'Beijing\\nCairo\\nLondon\\nNairobi\\nNew York City\\nSydney\\nTokyo\\n'"
          },
          "metadata": {}
        }
      ]
    },
    {
      "metadata": {
        "trusted": true
      },
      "cell_type": "code",
      "source": "print(cities)",
      "execution_count": 3,
      "outputs": [
        {
          "output_type": "stream",
          "text": "Beijing\nCairo\nLondon\nNairobi\nNew York City\nSydney\nTokyo\n\n",
          "name": "stdout"
        }
      ]
    },
    {
      "metadata": {},
      "cell_type": "markdown",
      "source": "### .read( ) a number of characters\n\n- .read(n) where n is a number of characters\n- if you keep running that code, it will pick up after the characters that were read the previous time\n    - for cities_file.read(10), it will print the first 10 characters; when run again, it will start at character 11\n- note: if the .read(n) result is \"\", it is likely that the end of file has been reached\n    - perform a fresh .open( ) to reset .read( ) to the beginning of the file"
    },
    {
      "metadata": {
        "trusted": true
      },
      "cell_type": "code",
      "source": "cities_file = open('cities.txt','r')\nten_chars = cities_file.read(10)\nprint(ten_chars)",
      "execution_count": 7,
      "outputs": [
        {
          "output_type": "stream",
          "text": "Beijing\nCa\n",
          "name": "stdout"
        }
      ]
    },
    {
      "metadata": {
        "trusted": true
      },
      "cell_type": "code",
      "source": "!curl https://raw.githubusercontent.com/MicrosoftLearning/intropython/master/digits_of_pi -o digits_of_pi.txt\ndigits_of_pi_text = open('digits_of_pi.txt','r')\n\npi_digits = digits_of_pi_text.read(4)\nprint(pi_digits)\n\npi_digits = str(pi_digits) + str(digits_of_pi_text.read(4))\nprint(pi_digits)",
      "execution_count": 8,
      "outputs": [
        {
          "output_type": "stream",
          "text": "  % Total    % Received % Xferd  Average Speed   Time    Time     Time  Current\n                                 Dload  Upload   Total   Spent    Left  Speed\n100   303  100   303    0     0    535      0 --:--:-- --:--:-- --:--:--   536\n3.14\n3.141592\n",
          "name": "stdout"
        }
      ]
    },
    {
      "metadata": {},
      "cell_type": "markdown",
      "source": "### Using .read( ) strings\n\nBecause the result of a read is a string, string manipulations like .upper( ), is_alpha, string_slicing[a:b:c]] are permissible "
    },
    {
      "metadata": {},
      "cell_type": "markdown",
      "source": "# 4.2 File .readlines( ) and .close( ) Methods"
    },
    {
      "metadata": {},
      "cell_type": "markdown",
      "source": "### .readlines ( ) methods\n - the .readlines( ) method is used to **open text files as a list instead of a string**\n - each line of the text file will be an item on the list\n - the \"\\n\"s will be retained as part of the line leading up to it"
    },
    {
      "metadata": {
        "trusted": true
      },
      "cell_type": "code",
      "source": "!curl https://raw.githubusercontent.com/MicrosoftLearning/intropython/master/cities -o cities.txt\ncities_file = open('cities.txt','r')\ncities_lines = cities_file.readlines()\nprint()\nprint(cities_lines)\nfor city in cities_lines:\n    print(city)",
      "execution_count": 10,
      "outputs": [
        {
          "output_type": "stream",
          "text": "  % Total    % Received % Xferd  Average Speed   Time    Time     Time  Current\n                                 Dload  Upload   Total   Spent    Left  Speed\n100    56  100    56    0     0    408      0 --:--:-- --:--:-- --:--:--   408\n\n['Beijing\\n', 'Cairo\\n', 'London\\n', 'Nairobi\\n', 'New York City\\n', 'Sydney\\n', 'Tokyo\\n']\nBeijing\n\nCairo\n\nLondon\n\nNairobi\n\nNew York City\n\nSydney\n\nTokyo\n\n",
          "name": "stdout"
        }
      ]
    },
    {
      "metadata": {},
      "cell_type": "markdown",
      "source": "### .readlines( ) list return\n\nremoving unwanted newline characters when creating a list with readlines:\n\n- if you leave the characters in, it will have redundant line breaks in a print statement\n- line[:-1] sets the end point before that last character of the string"
    },
    {
      "metadata": {
        "trusted": true
      },
      "cell_type": "code",
      "source": "cities_file = open('cities.txt','r')\ncities_lines = cities_file.readlines()\nprint(cities_lines)\ncount = 0 \nfor line in cities_lines:\n    cities_lines[count] = line[:-1]\n    count += 1\nprint(cities_lines)\ncities_file.close()    ",
      "execution_count": 13,
      "outputs": [
        {
          "output_type": "stream",
          "text": "['Beijing\\n', 'Cairo\\n', 'London\\n', 'Nairobi\\n', 'New York City\\n', 'Sydney\\n', 'Tokyo\\n']\n['Beijing', 'Cairo', 'London', 'Nairobi', 'New York City', 'Sydney', 'Tokyo']\n",
          "name": "stdout"
        }
      ]
    },
    {
      "metadata": {},
      "cell_type": "markdown",
      "source": "### .close( ) method\n\nFiles that are open take up memory, so remember to use .close() to free resources whenever you aren't directly using a file."
    },
    {
      "metadata": {},
      "cell_type": "markdown",
      "source": "# 4.3 .readline( ) and .strip( ) Methods"
    },
    {
      "metadata": {},
      "cell_type": "markdown",
      "source": "### .readline( ) method \n\nused to read one line of a file at a time"
    },
    {
      "metadata": {
        "trusted": true
      },
      "cell_type": "code",
      "source": "cities_file = open('cities.txt','r')\ncity_line1 = cities_file.readline()\ncity_line2 = cities_file.readline()\ncity_line3 = cities_file.readline()\nprint(city_line1 + city_line2 + city_line3)\ncities_file.close()",
      "execution_count": 16,
      "outputs": [
        {
          "output_type": "stream",
          "text": "Beijing\nCairo\nLondon\n\n",
          "name": "stdout"
        }
      ]
    },
    {
      "metadata": {},
      "cell_type": "markdown",
      "source": "### .readline( ) while loop\n\niterate through lines of a file one-by-one"
    },
    {
      "metadata": {
        "trusted": true
      },
      "cell_type": "code",
      "source": "cities_file = open('cities.txt','r')\n\ncities_line = cities_file.readline()\nwhile cities_line:\n    print(cities_line[:-1])\n    cities_line = cities_file.readline()\ncities_file.close()",
      "execution_count": 18,
      "outputs": [
        {
          "output_type": "stream",
          "text": "Beijing\nCairo\nLondon\nNairobi\nNew York City\nSydney\nTokyo\n",
          "name": "stdout"
        }
      ]
    },
    {
      "metadata": {},
      "cell_type": "markdown",
      "source": "### .readline( ) with .strip( )\n\nUsed to remove leading and trailing whitespace from a line."
    },
    {
      "metadata": {
        "trusted": true
      },
      "cell_type": "code",
      "source": "cities_file = open('cities.txt','r')\n\ncities_line = cities_file.readline().strip()\nwhile cities_line:\n    print(cities_line)\n    cities_line = cities_file.readline().strip()\ncities_file.close()",
      "execution_count": 20,
      "outputs": [
        {
          "output_type": "stream",
          "text": "Beijing\nCairo\nLondon\nNairobi\nNew York City\nSydney\nTokyo\n",
          "name": "stdout"
        }
      ]
    },
    {
      "metadata": {},
      "cell_type": "markdown",
      "source": "### .strip( ) method arguments\n\nUse arguments in .strip( ) to remove other characters from the front and end of a string"
    },
    {
      "metadata": {
        "trusted": true
      },
      "cell_type": "code",
      "source": "cities_file = open('cities.txt','r')\n\ncities_line = cities_file.readline().strip(\"y\\n\")\nwhile cities_line:\n    print(cities_line)\n    cities_line = cities_file.readline().strip(\"Ny\\n\")\ncities_file.close()",
      "execution_count": 23,
      "outputs": [
        {
          "output_type": "stream",
          "text": "Beijing\nCairo\nLondon\nairobi\new York Cit\nSydne\nTokyo\n",
          "name": "stdout"
        }
      ]
    },
    {
      "metadata": {},
      "cell_type": "markdown",
      "source": "# 4.4 .write( ) and .seek( ) Methods"
    },
    {
      "metadata": {},
      "cell_type": "markdown",
      "source": "### 'w' and 'w+' modes\n- 'w': write mode: creates a new file or overwrite an existing file of the same name. In this mode you can ONLY write, so you can't see what you write echoed back to you.\n- 'w+\": write + read mode. You can read what you wrote but only if you re-open the file or use the next method (.seek()) to reset the pointer back to index 0"
    },
    {
      "metadata": {
        "trusted": true
      },
      "cell_type": "code",
      "source": "spell_file = open('spells.txt','w+')\nspell_file.write('Protection\\nBinding\\nDivinatory\\nHerbal\\nCandleMagick')\nspell_file = open('spells.txt','w+')\nspells = spell_file.read()\nprint(spells)\nspell_file.close()",
      "execution_count": 24,
      "outputs": [
        {
          "output_type": "stream",
          "text": "Protection\nBinding\nDivinatory\nHerbal\nCandleMagick\n",
          "name": "stdout"
        }
      ]
    },
    {
      "metadata": {},
      "cell_type": "markdown",
      "source": "### .seek(0) method\n\nUse this to move the pointer back to the beginning of the file"
    },
    {
      "metadata": {
        "trusted": true
      },
      "cell_type": "code",
      "source": "spell_file = open('spells.txt','w+')\nspell_file.write('Protection\\nBinding\\nDivinatory\\nHerbal\\nCandleMagick')\nspell_file.seek(0)\nspells = spell_file.read()\nprint(spells)\nspell_file.close()",
      "execution_count": 26,
      "outputs": [
        {
          "output_type": "stream",
          "text": "Protection\nBinding\nDivinatory\nHerbal\nCandleMagick\n",
          "name": "stdout"
        }
      ]
    },
    {
      "metadata": {},
      "cell_type": "markdown",
      "source": "### .seek( offset ) and .seek( offset, whence )\n\n- unlike string-slicing, **the offset** must be a positive integer so you can't count backward from the last character\n"
    },
    {
      "metadata": {
        "trusted": true
      },
      "cell_type": "code",
      "source": "spell_file = open('spells.txt','w+')\nspell_file.write('Protection\\nBinding\\nDivinatory\\nHerbal\\nCandleMagick')\nspell_file.seek(11)\nspells = spell_file.read()\nprint(spells)\nspell_file.close()",
      "execution_count": 27,
      "outputs": [
        {
          "output_type": "stream",
          "text": "Binding\nDivinatory\nHerbal\nCandleMagick\n",
          "name": "stdout"
        }
      ]
    },
    {
      "metadata": {},
      "cell_type": "markdown",
      "source": "- **whence** sets where the offset will begin. It has 3 possible modes:\n    - 0: points to the beginning of the file\n    - 1: points to the current location\n    - 2: points to the end of the file (and offset is always 0)"
    },
    {
      "metadata": {},
      "cell_type": "markdown",
      "source": "### Writeable modes\n\n**read ('r')** only allows you to read, but all of the other modes allow you to write, and some of those allow you to read as well. \n\n- the **write modes 'w' and 'w+'** will create a new file, so be wary of using them if you already have existing data that you want to maintain\n- if you open a file in **'r+'**, you can overwrite sections of your file, but the entire file isn't automatically overwritten upon opening, like 'w' and 'w+'\n    - you can move your pointer to sections to overwrite, or you can use the **whence seek argument '2'** to go to the end of the file and append\n- **append modes 'a' and 'a+'** allow you to append to the end of a file with the pointer already set to the end of the existing file"
    },
    {
      "metadata": {
        "trusted": true
      },
      "cell_type": "code",
      "source": "# MOD4 Coding Assignment\n\n!curl https://raw.githubusercontent.com/MicrosoftLearning/intropython/master/world_temp_mean.csv -o mean_temp.txt\nprint()\nmean_temp = open('mean_temp.txt','a+')\nmean_temp.write(\"Rio de Janeiro,Brazil,30.0,18.0\\n\")\n\nmean_temp.seek(0)\n\nheadings = mean_temp.readline()\nheadings = headings.split(',')\n\nprint(headings)\nprint()\n\ncity_line = mean_temp.readline().split(',')\n\nwhile len(city_line) > 1:\n    print(headings[0].title(),\"of\",city_line[0],headings[2],\"is\",city_line[2])\n    city_line = mean_temp.readline().split(',')\n\nmean_temp.close()",
      "execution_count": 30,
      "outputs": [
        {
          "output_type": "stream",
          "text": "  % Total    % Received % Xferd  Average Speed   Time    Time     Time  Current\n                                 Dload  Upload   Total   Spent    Left  Speed\n100   222  100   222    0     0    130      0  0:00:01  0:00:01 --:--:--   131\n\n['city', 'country', 'month ave: highest high', 'month ave: lowest low\\n']\n\nCity of Beijing month ave: highest high is 30.9\nCity of Cairo month ave: highest high is 34.7\nCity of London month ave: highest high is 23.5\nCity of Nairobi month ave: highest high is 26.3\nCity of New York City month ave: highest high is 28.9\nCity of Sydney month ave: highest high is 26.5\nCity of Tokyo month ave: highest high is 30.8\nCity of Rio de Janeiro month ave: highest high is 30.0\n",
          "name": "stdout"
        }
      ]
    },
    {
      "metadata": {},
      "cell_type": "markdown",
      "source": "# Final Coding Exam"
    },
    {
      "metadata": {
        "trusted": true
      },
      "cell_type": "code",
      "source": "!curl https://raw.githubusercontent.com/MicrosoftLearning/intropython/master/elements1_20.txt -o elements1_20.txt\nelements_file = open('elements1_20.txt','r')\nelements_list = []\ncorrect_list = []\nincorrect_list = []\n\ndef get_names():\n    guesses = []\n    for item in range(5):\n        guess_n = input(\"List any 5 of the first 20 elements in the periodic table: \")\n        if guess_n == \"\":\n            print(\"Invalid entry. Try again: \")\n            guess_n = input(\"List any 5 of the first 20 elements in the periodic table: \")\n        elif guess_n in guesses:\n            print(guess_n.title(),\"was already entered. Try again.\")\n            guess_n = input(\"List any 5 of the first 20 elements in the periodic table: \")\n        elif not guess_n in guesses:\n            guesses.append(guess_n)\n    return guesses\n\nelements_strip = elements_file.readline().strip()\nelements_list.append(elements_strip.lower())\nwhile elements_strip:\n    elements_strip = elements_file.readline().strip()\n    elements_list.append(elements_strip.lower())   \nelements_list.pop()\n\nfor item in get_names():\n    if item in elements_list:\n        correct_list.append(item)\n    else:\n        incorrect_list.append(item)\nprint()\nprint(\"Correct guesses: \", end = \"\")\nfor item in correct_list:\n    print(item.title(), end = \" \")\nprint()\nprint(\"Incorrect guesses: \", end = \"\")\nfor item in incorrect_list:\n    print(item.title(), end = \" \")\nprint()\nnum_correct = len(correct_list)\nscore = num_correct * 20\nprint(\"Your score is:\",score,\"%\")",
      "execution_count": 31,
      "outputs": [
        {
          "output_type": "stream",
          "text": "  % Total    % Received % Xferd  Average Speed   Time    Time     Time  Current\n                                 Dload  Upload   Total   Spent    Left  Speed\n100   161  100   161    0     0    774      0 --:--:-- --:--:-- --:--:--   777\nList any 5 of the first 20 elements in the periodic table: boron\nList any 5 of the first 20 elements in the periodic table: silicon\nList any 5 of the first 20 elements in the periodic table: radium\nList any 5 of the first 20 elements in the periodic table: polonium\nList any 5 of the first 20 elements in the periodic table: boron\nBoron was already entered. Try again.\nList any 5 of the first 20 elements in the periodic table:  \n\nCorrect guesses: Boron Silicon \nIncorrect guesses: Radium Polonium \nYour score is: 40 %\n",
          "name": "stdout"
        }
      ]
    },
    {
      "metadata": {
        "trusted": true
      },
      "cell_type": "code",
      "source": "",
      "execution_count": null,
      "outputs": []
    }
  ],
  "metadata": {
    "kernelspec": {
      "name": "python36",
      "display_name": "Python 3.6",
      "language": "python"
    },
    "language_info": {
      "mimetype": "text/x-python",
      "nbconvert_exporter": "python",
      "name": "python",
      "pygments_lexer": "ipython3",
      "version": "3.6.6",
      "file_extension": ".py",
      "codemirror_mode": {
        "version": 3,
        "name": "ipython"
      }
    }
  },
  "nbformat": 4,
  "nbformat_minor": 2
}