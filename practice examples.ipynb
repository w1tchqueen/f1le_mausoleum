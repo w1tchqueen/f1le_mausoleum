{
  "cells": [
    {
      "metadata": {},
      "cell_type": "markdown",
      "source": "# Defining & calling simple functions with no parameters:"
    },
    {
      "metadata": {
        "trusted": true
      },
      "cell_type": "code",
      "source": "\ndef say_hi():\n    print(\"Hello there!\")\n    print(\"Goodbye.\")\n\nsay_hi()\n",
      "execution_count": null,
      "outputs": []
    },
    {
      "metadata": {},
      "cell_type": "markdown",
      "source": "*If you insert a value into the function parameter space you will get a TypeError"
    },
    {
      "metadata": {
        "trusted": true
      },
      "cell_type": "code",
      "source": "def yell_it():\n    print(phrase.upper())\n\nphrase = \"animal shithouse!\"\n\nyell_it()",
      "execution_count": null,
      "outputs": []
    },
    {
      "metadata": {},
      "cell_type": "markdown",
      "source": "*The class manual put the value of phrase line inside the yell_it function, before print"
    },
    {
      "metadata": {},
      "cell_type": "markdown",
      "source": "# Defining and calling a function with one parameter:"
    },
    {
      "metadata": {
        "trusted": true
      },
      "cell_type": "code",
      "source": "def say_this(phrase):\n    print(phrase)\nsay_this(\"Good Morning!\")",
      "execution_count": null,
      "outputs": []
    },
    {
      "metadata": {},
      "cell_type": "markdown",
      "source": "You can give the parameter a default value that will be supplied only if the function is called without a parameter."
    },
    {
      "metadata": {
        "trusted": true
      },
      "cell_type": "code",
      "source": "def vegetable(gourd = \"squash\"):\n    print(gourd)\n\nvegetable()\n\nvegetable(\"pumpkin\")",
      "execution_count": null,
      "outputs": []
    },
    {
      "metadata": {},
      "cell_type": "markdown",
      "source": "Self-given example: Define the function called grocery_list to print a grocery list in title case created from user input, and give it a default value (argument) for when no user input (argument) is given."
    },
    {
      "metadata": {
        "trusted": true
      },
      "cell_type": "code",
      "source": "def grocery_list(groceries = \"No groceries needed.\"):\n    print(\"You need to buy: \",groceries.title())\n    \ngroceries = input(\"What groceries do you need?: \")\n\ngrocery_list()\ngrocery_list(groceries)",
      "execution_count": null,
      "outputs": []
    },
    {
      "metadata": {
        "trusted": true
      },
      "cell_type": "markdown",
      "source": "# Defining and calling a return function:"
    },
    {
      "metadata": {},
      "cell_type": "markdown",
      "source": "The variable \"value\" is the parameter. When the return function is called, it returns to the function with an argument (42) to replace the parameter. Then, the function acts on the returned argument"
    },
    {
      "metadata": {
        "trusted": true
      },
      "cell_type": "code",
      "source": "def half_value(value):\n    return value/2\nprint(half_value(42))",
      "execution_count": null,
      "outputs": []
    },
    {
      "metadata": {},
      "cell_type": "markdown",
      "source": "This next function will print a phrase captured and returned in the \"phrase\" variable the function acts on. "
    },
    {
      "metadata": {},
      "cell_type": "markdown",
      "source": "The function contains a code that takes the value of the single parameter and doubles it, with \" \" added to put a space between the phrases when it prints. \n\nThe function is called by a variable definition. That variable is returned to the return function to fill the parameter. Then, that variable is printed by the following print function."
    },
    {
      "metadata": {
        "trusted": true
      },
      "cell_type": "code",
      "source": "def msg_double(phrase):\n    double = phrase + \" \" + phrase\n    return double\n\nmsg_2x = msg_double(\"let's go!\")\nprint(msg_2x)",
      "execution_count": null,
      "outputs": []
    },
    {
      "metadata": {},
      "cell_type": "markdown",
      "source": "So, we captured the return value in a variable and printed it. However, it's not a requirement for the value to be presented as a variable. "
    },
    {
      "metadata": {},
      "cell_type": "markdown",
      "source": "Here is a function whose parameter, once returned, is added to the string \"Dr. \" and formatted into title case. \nAfter the function is run, its parameter is defined by a user input asking for the name of the doctor.\nThen the function is called with its parameter in a print function and printed."
    },
    {
      "metadata": {
        "trusted": true
      },
      "cell_type": "code",
      "source": "def make_doctor(full_name):\n    name = \"\\nDr. \" + full_name.title()\n    return name\nfull_name = input(\"What is your name?: \")\nprint(make_doctor(full_name))\n",
      "execution_count": null,
      "outputs": []
    },
    {
      "metadata": {},
      "cell_type": "markdown",
      "source": "Adding \\n to the beginning of the string added a line break."
    },
    {
      "metadata": {},
      "cell_type": "markdown",
      "source": "# Defining and calling a return function with multiple parameters"
    },
    {
      "metadata": {},
      "cell_type": "markdown",
      "source": "This is a question I got wrong on the quiz:"
    },
    {
      "metadata": {
        "trusted": true
      },
      "cell_type": "code",
      "source": "def add_numbers(num_1, num_2 = 10):\n    return num_1 + num_2\nprint(add_numbers(100))",
      "execution_count": null,
      "outputs": []
    },
    {
      "metadata": {},
      "cell_type": "markdown",
      "source": "# Sequence is the order of code processing and it flows top -> bottom"
    },
    {
      "metadata": {},
      "cell_type": "markdown",
      "source": "- Objects (variables, functions...) are not available until AFTER they are run.\n- So, functions are usually at the beginning of a code"
    },
    {
      "metadata": {},
      "cell_type": "markdown",
      "source": "A NameError occurs when you call an object before it is defined: you are calling it out of sequence.\nHere's an example:"
    },
    {
      "metadata": {
        "trusted": true
      },
      "cell_type": "code",
      "source": "have_hat = hat_available('green')\nprint(\"Hat available is: \",\"have_hat\")\ndef hat_available(color):\n    hat_colors = \"black, red, blue, green, white, orange\"\n    return(color.lower() in hat_colors)",
      "execution_count": 4,
      "outputs": [
        {
          "output_type": "error",
          "ename": "NameError",
          "evalue": "name 'hat_available' is not defined",
          "traceback": [
            "\u001b[0;31m---------------------------------------------------------------------------\u001b[0m",
            "\u001b[0;31mNameError\u001b[0m                                 Traceback (most recent call last)",
            "\u001b[0;32m<ipython-input-4-b78230fdbbc5>\u001b[0m in \u001b[0;36m<module>\u001b[0;34m\u001b[0m\n\u001b[0;32m----> 1\u001b[0;31m \u001b[0mhave_hat\u001b[0m \u001b[0;34m=\u001b[0m \u001b[0mhat_available\u001b[0m\u001b[0;34m(\u001b[0m\u001b[0;34m'green'\u001b[0m\u001b[0;34m)\u001b[0m\u001b[0;34m\u001b[0m\u001b[0m\n\u001b[0m\u001b[1;32m      2\u001b[0m \u001b[0mprint\u001b[0m\u001b[0;34m(\u001b[0m\u001b[0;34m\"Hat available is: \"\u001b[0m\u001b[0;34m,\u001b[0m\u001b[0;34m\"have_hat\"\u001b[0m\u001b[0;34m)\u001b[0m\u001b[0;34m\u001b[0m\u001b[0m\n\u001b[1;32m      3\u001b[0m \u001b[0;32mdef\u001b[0m \u001b[0mhat_available\u001b[0m\u001b[0;34m(\u001b[0m\u001b[0mcolor\u001b[0m\u001b[0;34m)\u001b[0m\u001b[0;34m:\u001b[0m\u001b[0;34m\u001b[0m\u001b[0m\n\u001b[1;32m      4\u001b[0m     \u001b[0mhat_colors\u001b[0m \u001b[0;34m=\u001b[0m \u001b[0;34m\"black, red, blue, green, white, orange\"\u001b[0m\u001b[0;34m\u001b[0m\u001b[0m\n\u001b[1;32m      5\u001b[0m     \u001b[0;32mreturn\u001b[0m\u001b[0;34m(\u001b[0m\u001b[0mcolor\u001b[0m\u001b[0;34m.\u001b[0m\u001b[0mlower\u001b[0m\u001b[0;34m(\u001b[0m\u001b[0;34m)\u001b[0m \u001b[0;32min\u001b[0m \u001b[0mhat_colors\u001b[0m\u001b[0;34m)\u001b[0m\u001b[0;34m\u001b[0m\u001b[0m\n",
            "\u001b[0;31mNameError\u001b[0m: name 'hat_available' is not defined"
          ]
        }
      ]
    },
    {
      "metadata": {},
      "cell_type": "markdown",
      "source": "The computer has never seen \"hat_available\" in its damn life, but there it is in the first line, undefined af."
    },
    {
      "metadata": {},
      "cell_type": "markdown",
      "source": "# Defining and calling a return function that returns a T/F Boolean function"
    },
    {
      "metadata": {},
      "cell_type": "markdown",
      "source": "EX. Create a program *bird_available* that contains a parameter that will take the name of a type of bird provided by the user as its argument, then returns a T/F Boolean function that tells whether the input bird is on the list of birds established in the return function, then prints the results."
    },
    {
      "metadata": {
        "trusted": true
      },
      "cell_type": "code",
      "source": "def bird_available(bird_name):\n    bird_list = \"eagle, robin, owl, crow, turkey\"\n    return (bird_name.lower() in bird_list.lower())\nbird_name = input(\"What bird are u tryna talk about?: \")\nprint(\"That bird is on the list: \",bird_available(bird_name))",
      "execution_count": 1,
      "outputs": [
        {
          "output_type": "stream",
          "name": "stdout",
          "text": "What bird are u tryna talk about?: crow\nThat bird is on the list:  True\n"
        }
      ]
    },
    {
      "metadata": {},
      "cell_type": "markdown",
      "source": "This is the required coding activity for Module 2: Functions\n\nCreate a program \"fishstore()\" that has two parameters, for string values of \"fish\" and \"price\", where the arguments returned to the function are determined by user input. The return function should return a string in sentence form telling the viewer the name and price of the input fish. Then, print the return value of fishstore()."
    },
    {
      "metadata": {
        "trusted": true
      },
      "cell_type": "code",
      "source": "def fishstore(fish_entry, price_entry):\n    fish_sentence = (\"The fish of the day, \" + fish_entry.lower() + \",\" + \" costs $\" + cost_entry.lower() + \".\")\n    return fish_sentence\nfish_entry = input(\"What fish are you selling today?: \")\ncost_entry = input(\"What is the cost of that fish?: \")\nprint(fishstore(fish_entry, cost_entry))",
      "execution_count": null,
      "outputs": []
    },
    {
      "metadata": {
        "trusted": true
      },
      "cell_type": "markdown",
      "source": "# Using Conditionals: Boolean String Tests"
    },
    {
      "metadata": {},
      "cell_type": "markdown",
      "source": "- True and False are Boolean keywords, and Not True can be used as well\n- If and Else are the conditional keywords\n- You assign different code for each case, OR\n- You can use the Pass keyword to do nothing under that condition"
    },
    {
      "metadata": {},
      "cell_type": "markdown",
      "source": "### These are examples of the most basic form of a conditional:"
    },
    {
      "metadata": {
        "trusted": true
      },
      "cell_type": "code",
      "source": "if True:\n    print(\"Hello!\")\nelse:\n    print(\"She doesn't even go here.\")",
      "execution_count": 1,
      "outputs": [
        {
          "output_type": "stream",
          "text": "Hello!\n",
          "name": "stdout"
        }
      ]
    },
    {
      "metadata": {
        "trusted": true
      },
      "cell_type": "code",
      "source": "someone_i_know = False\nif someone_i_know:\n    pass\nelse:\n    print(\"How have you been?\")",
      "execution_count": 4,
      "outputs": [
        {
          "output_type": "stream",
          "text": "How have you been?\n",
          "name": "stdout"
        }
      ]
    },
    {
      "metadata": {},
      "cell_type": "markdown",
      "source": "- Any Boolean String Method can be used in a conditional, because they all resolve to True or False.\n- Boolean methods include .isalpha( ) / .isalnum( ) / .istitle( ) / .isdigit() / .islower( ) / .startswith( )  ....."
    },
    {
      "metadata": {},
      "cell_type": "markdown",
      "source": "### This is a conditional that uses the .istitle( ) Boolean method, takes user input, and has three if statements:"
    },
    {
      "metadata": {
        "trusted": true
      },
      "cell_type": "code",
      "source": "a_number = input(\"Enter a positive integer: \")\nif a_number.isdigit():\n    print(a_number.title(),\"is a positive integer.\")\nelse:\n    print(a_number.title(),\"is not a positive integer.\")\nif a_number.isalpha():\n    print(a_number.title(),\"is more like a word.\")",
      "execution_count": 3,
      "outputs": [
        {
          "output_type": "stream",
          "name": "stdout",
          "text": "Enter a positive integer: five\nFive is not a positive integer.\nFive is more like a word.\n"
        }
      ]
    },
    {
      "metadata": {},
      "cell_type": "markdown",
      "source": "### This function, called w_start_test, allows you to use one code to process three different arguments in a one-parameter return function. "
    },
    {
      "metadata": {
        "trusted": true
      },
      "cell_type": "code",
      "source": "test_string_1 = \"welcome\"\ntest_string_2 = \"I have $3\"\ntest_string_3 = \"With a function it's efficient to repeat code\"\n\ndef w_start_test(test_string):\n    if test_string.startswith(\"w\"):\n        print(\"That string,\",test_string,\",starts with w.\")\n    else:\n        print(\"That string,\",test_string,\", does not start with w.\")\n    return test_string\n\nw_start_test(test_string_1)\nw_start_test(test_string_2)\nw_start_test(test_string_3)",
      "execution_count": 4,
      "outputs": [
        {
          "output_type": "stream",
          "text": "That string, welcome ,starts with w.\nThat string, I have $3 , does not start with w.\nThat string, With a function it's efficient to repeat code , does not start with w.\n",
          "name": "stdout"
        },
        {
          "output_type": "execute_result",
          "execution_count": 4,
          "data": {
            "text/plain": "\"With a function it's efficient to repeat code\""
          },
          "metadata": {}
        }
      ]
    },
    {
      "metadata": {},
      "cell_type": "markdown",
      "source": "### This function achieves the same thing but the arguments are defined through user input, which makes the code more reusable: "
    },
    {
      "metadata": {
        "trusted": true
      },
      "cell_type": "code",
      "source": "def w_start_test(test_string):\n    if test_string.startswith(\"w\"):\n        print(test_string.title(),\",starts with w.\")\n    else:\n        print(test_string.title(),\" does not start with w.\")\n    return test_string\ntest_string = \"hello, test.\"\nprint(w_start_test(test_string))",
      "execution_count": 22,
      "outputs": [
        {
          "output_type": "stream",
          "text": "Hello, Test.  does not start with w.\nhello, test.\n",
          "name": "stdout"
        }
      ]
    },
    {
      "metadata": {
        "trusted": true
      },
      "cell_type": "markdown",
      "source": "# Using comparison operators in conditionals"
    },
    {
      "metadata": {
        "trusted": true
      },
      "cell_type": "markdown",
      "source": "The comparison operators are:\n- '>' greater than\n- '<' less than\n- '>=' greater than or equal to\n- '<=' less than or equal to\n- '==' equal to\n- '!=' not equal to"
    },
    {
      "metadata": {},
      "cell_type": "markdown",
      "source": "### For example, here is an if/else statement that uses a comparison operator to assess the relationship between the values of two variables, with printed output:"
    },
    {
      "metadata": {
        "trusted": true
      },
      "cell_type": "code",
      "source": "x = 3\ny = x + 8\nif y >= x + x:\n    print(\"y >= x + x is True\")\nelse:\n    print(\"y >= x + x is False\")\n",
      "execution_count": 23,
      "outputs": [
        {
          "output_type": "stream",
          "text": "y >= x + x is True\n",
          "name": "stdout"
        }
      ]
    },
    {
      "metadata": {
        "trusted": true
      },
      "cell_type": "code",
      "source": "assignment = 25\n\nif assignment == 25:\n    print('use \"=\" to assign values')\nelse:\n    pass",
      "execution_count": 28,
      "outputs": [
        {
          "output_type": "stream",
          "text": "use \"=\" to assign values\n",
          "name": "stdout"
        }
      ]
    },
    {
      "metadata": {
        "trusted": true
      },
      "cell_type": "markdown",
      "source": "### Comparison operators can also be used on strings to control the flow of the code"
    },
    {
      "metadata": {},
      "cell_type": "markdown",
      "source": "- Z is greater than; A is lesser than.\n- lower-case is greater than; Upper-Case is lesser than."
    },
    {
      "metadata": {
        "trusted": true
      },
      "cell_type": "code",
      "source": "\"hello\" > \"HELLO\"",
      "execution_count": 9,
      "outputs": [
        {
          "output_type": "execute_result",
          "execution_count": 9,
          "data": {
            "text/plain": "True"
          },
          "metadata": {}
        }
      ]
    },
    {
      "metadata": {
        "trusted": true
      },
      "cell_type": "code",
      "source": "\"Aardvark\" < \"Zebra\"",
      "execution_count": 3,
      "outputs": [
        {
          "output_type": "execute_result",
          "execution_count": 3,
          "data": {
            "text/plain": "True"
          },
          "metadata": {}
        }
      ]
    },
    {
      "metadata": {},
      "cell_type": "markdown",
      "source": "The letter takes priority over the case in the comparison"
    },
    {
      "metadata": {
        "trusted": true
      },
      "cell_type": "code",
      "source": "\"Aardvark\" < \"zebra\"",
      "execution_count": 7,
      "outputs": [
        {
          "output_type": "execute_result",
          "execution_count": 7,
          "data": {
            "text/plain": "True"
          },
          "metadata": {}
        }
      ]
    },
    {
      "metadata": {
        "trusted": true
      },
      "cell_type": "code",
      "source": "\"Hello \" + \"World!\" == \"Hello World!\"",
      "execution_count": 15,
      "outputs": [
        {
          "output_type": "execute_result",
          "execution_count": 15,
          "data": {
            "text/plain": "True"
          },
          "metadata": {}
        }
      ]
    },
    {
      "metadata": {},
      "cell_type": "markdown",
      "source": "### Write a function \"tf_quiz\" that has two parameters for string arguments, \"question\" and \"correct_ans\". It should ask a student that question, and if they answer correctly, print an affirmative string, or incorrectly, print a negating string."
    },
    {
      "metadata": {
        "trusted": true
      },
      "cell_type": "code",
      "source": "question = \"True or false: TEM stands for Transmission Electron Microscope \"\ncorrect_ans = \"true\"\n\ndef tf_quiz(question, correct_ans):\n    if student_answer.lower() == correct_ans:\n        print(\"Correct!\")\n    else:\n        print(\"Incorrect. Try again.\")\n    return(student_answer)\n\nstudent_answer = input(\"True or false: TEM stands for Transmission Electron Microscope \" )\n\ntf_quiz(question, correct_ans)",
      "execution_count": 16,
      "outputs": [
        {
          "output_type": "stream",
          "name": "stdout",
          "text": "True or false: TEM stands for Transmission Electron Microscope true\nCorrect!\n"
        },
        {
          "output_type": "execute_result",
          "execution_count": 16,
          "data": {
            "text/plain": "'true'"
          },
          "metadata": {}
        }
      ]
    },
    {
      "metadata": {
        "trusted": true
      },
      "cell_type": "code",
      "source": "      name = \"Jin Xu\"\n\nif type(name) == type(\"Hello\"):\n    print(name, \"is a string entry\")\nelse:\n    print(name, \"is not a string entry\")",
      "execution_count": 20,
      "outputs": [
        {
          "output_type": "stream",
          "text": "Jin Xu is a string entry\n",
          "name": "stdout"
        }
      ]
    },
    {
      "metadata": {},
      "cell_type": "markdown",
      "source": "# Using an elif statement to test for multiple conditions"
    },
    {
      "metadata": {},
      "cell_type": "markdown",
      "source": "- the elif or elifs go between the if and else lines\n- like else, elif only runs when the initial if statement is false."
    },
    {
      "metadata": {
        "trusted": true
      },
      "cell_type": "code",
      "source": "secret_num = \"2\"\n\nguess = input(\"Enter a guess for the secret number (1-3): \")\n\nif guess.isdigit() == False:\n    print(\"Invalid: guess should only use digits\")\nelif guess == \"1\":\n    print(\"Guess is too low\")\nelif guess == secret_num:\n    print(\"Guess is right\")\nelif guess == \"3\":\n    print(\"Guess is too high\")\nelse:\n    print(guess, \"is not a valid guess (1-3)\")",
      "execution_count": 21,
      "outputs": [
        {
          "output_type": "stream",
          "name": "stdout",
          "text": "Enter a guess for the secret number (1-3): 2\nGuess is right\n"
        }
      ]
    },
    {
      "metadata": {
        "trusted": true
      },
      "cell_type": "markdown",
      "source": "# Casting data type"
    },
    {
      "metadata": {},
      "cell_type": "markdown",
      "source": "- you can change from integer to float to string, and back (where possible).\n- this allows for addition / string concatenation where necessary\n- str(data)\n- int(data)\n- float(data)"
    },
    {
      "metadata": {
        "trusted": true
      },
      "cell_type": "code",
      "source": "type(int(\"3\"))\ntype(float(\"3\"))\ntype(str(3.0))",
      "execution_count": 2,
      "outputs": [
        {
          "output_type": "execute_result",
          "execution_count": 2,
          "data": {
            "text/plain": "str"
          },
          "metadata": {}
        }
      ]
    },
    {
      "metadata": {},
      "cell_type": "markdown",
      "source": "### This code is a calculator that gets user input for two integers, adds them, and prints the results in the format \"1 + 1 = 2\". It uses a Boolean test and a conditional to ensure the user entered only digits that can be converted from string to integer, and sends them an error messsage telling them to try again if they did not. "
    },
    {
      "metadata": {
        "trusted": true
      },
      "cell_type": "code",
      "source": "int_1 = input(\"Enter the first number using digit keys only: \")\nint_2 = input(\"Enter the second number using digit keys only: \")\n\nif int_1.isdigit() and int_2.isdigit():\n    print(str(int_1),\"+\",str(int_2),\"=\", int(int_1) + int(int_2))\nelse:\n    print(\"Error: try again using numerals only.\")",
      "execution_count": 1,
      "outputs": [
        {
          "output_type": "stream",
          "name": "stdout",
          "text": "Enter the first number using digit keys only: 6\nEnter the second number using digit keys only: 8\n6 + 8 = 14\n"
        }
      ]
    },
    {
      "metadata": {
        "trusted": true
      },
      "cell_type": "code",
      "source": "x = 3\ny = \"3\" \n\ndef get_diff(xint, ystr):\n    # <function code needed here>\n    return(int(ystr) - xint)\n\nif y.isdigit() == False:\n   print('\"y\" is not an integer string')\nelif get_diff(x,y) == 0:\n    print('x equal to y')\nelse:\n    print('x is NOT equal to y')",
      "execution_count": 15,
      "outputs": [
        {
          "output_type": "stream",
          "text": "x equal to y\n",
          "name": "stdout"
        }
      ]
    },
    {
      "metadata": {},
      "cell_type": "markdown",
      "source": "# Other basic mathematical operators:  +   ,   -   ,   *   ,   /   "
    },
    {
      "metadata": {},
      "cell_type": "markdown",
      "source": "- Order of Operations applies\n- Division always results in a float"
    },
    {
      "metadata": {},
      "cell_type": "markdown",
      "source": "### This is a multiplication calculator program that gets user input for two numbers, converts them to integers, muliplies them, and returns them as strings in a string that writes out the whole equation with the answer."
    },
    {
      "metadata": {
        "trusted": true
      },
      "cell_type": "code",
      "source": "def multiply(num1, num2):\n    equation = (int(num1) * int(num2))\n    return str(num1) + \" * \" + str(num2) + \" = \" + str(equation)\n            \nnum1 = input(\"Enter the first number to multiplied: \")\nnum2 = input(\"Enter the second number to be multiplied: \")\n\nmultiply(num1, num2)",
      "execution_count": 1,
      "outputs": [
        {
          "output_type": "stream",
          "name": "stdout",
          "text": "Enter the first number to multiplied: 2\nEnter the second number to be multiplied: 9\n"
        },
        {
          "output_type": "execute_result",
          "execution_count": 1,
          "data": {
            "text/plain": "'2 * 9 = 18'"
          },
          "metadata": {}
        }
      ]
    },
    {
      "metadata": {},
      "cell_type": "markdown",
      "source": "### This next program is an improvement on the previous calculator and adds the option of division. The single parameter is operator and it uses a conditional to return different strings for multiplication, division, or invalid entries (neither). "
    },
    {
      "metadata": {
        "trusted": true
      },
      "cell_type": "code",
      "source": "def multiply(operator = \"*\"):\n    \n    if operator == \"*\":\n        equation = (int(num1) * int(num2))\n        return str(num1) + \" * \" + str(num2) + \" = \" + str(equation)\n    elif operator == \"/\":\n        equation = (int(num1) / int(num2))\n        return str(num1) + \" * \" + str(num2) + \" = \" + str(equation)\n    else:\n        print(\"invalid entry\")\n        \n\nnum1 = input(\"enter first number: \")\noperator = input(\"Enter / or * for function type: \")\nnum2 = input(\"enter second number: \")\n\nprint(multiply(operator))",
      "execution_count": null,
      "outputs": []
    },
    {
      "metadata": {
        "trusted": true
      },
      "cell_type": "markdown",
      "source": "### This program is a letter guessing game function with two parameters: one for the pre-set number and the other for the guess, which is filled in by user input and returned to the function. \n\n- It starts out with an .isalpha() Boolean to weed out invalid answers before going through the conditional.\n- Following the function call, the guess == letter just serves to give an output of true or false"
    },
    {
      "metadata": {
        "trusted": true
      },
      "cell_type": "code",
      "source": "letter = \"P\"\ndef check_guess(letter, guess):\n    if not guess.isalpha():\n        print(\"Entry must an alphabetical character.\")\n    elif guess.upper() == letter:\n        print(\"Correct!\")\n    elif guess.upper() > letter:\n        print(\"Your guess is too high.\")\n    elif guess.upper() < letter:\n        print(\"Your guess is too low.\")\n    else:\n        print(\"Invalid. Please enter a single alphabetical character.\")\n    return guess \n\nguess = input(\"Guess the letter: \")\ncheck_guess(letter, guess)\n\nguess == letter",
      "execution_count": 2,
      "outputs": [
        {
          "output_type": "stream",
          "name": "stdout",
          "text": "Guess the letter: f\nYour guess is too low.\n"
        },
        {
          "output_type": "execute_result",
          "execution_count": 2,
          "data": {
            "text/plain": "False"
          },
          "metadata": {}
        }
      ]
    },
    {
      "metadata": {},
      "cell_type": "markdown",
      "source": "#### Here it is expanded, so that the user only gets three attempts to answer the question:"
    },
    {
      "metadata": {
        "trusted": true
      },
      "cell_type": "code",
      "source": "letter = \"M\"\n\ndef check_guess(letter, guess):\n    if not guess.isalpha():\n        print(\"Entry must an alphabetical character.\")\n        guess = input(\"Guess again: \")\n    elif guess.upper() == letter:\n        print(\"Correct!\")\n    elif guess.upper() > letter:\n        print(\"Your guess is too high.\")\n        guess = input(\"Guess again: \")\n    elif guess.upper() < letter:\n        print(\"Your guess is too low.\")\n        guess = input(\"Guess again: \")\n    else:\n        print(\"Invalid. Please enter a single alphabetical character.\")\n        guess_again = input(\"Guess again: \")\n    if not guess.isalpha():\n        print(\"Entry must an alphabetical character.\")\n        guess = input(\"Last guess: \")\n    elif guess.upper() == letter:\n        print(\"Correct!\")\n    elif guess.upper() > letter:\n        print(\"Your guess is too high.\")\n        guess = input(\"Last guess: \")\n    elif guess.upper() < letter:\n        print(\"Your guess is too low.\")\n        guess = input(\"Last guess: \")\n    else:\n        print(\"Invalid. Please enter a single alphabetical character.\")\n        guess_again = input(\"Last guess: \")   \n    if guess.upper() == letter:\n        print(\"Correct!\")\n    else:\n         print(\"Sorry. You're out of guesses.\") \n    return guess\n\nguess = input(\"Guess the letter: \")\n\ncheck_guess(letter, guess)",
      "execution_count": 1,
      "outputs": [
        {
          "output_type": "stream",
          "name": "stdout",
          "text": "Guess the letter: f\nYour guess is too low.\nGuess again: r\nYour guess is too high.\nLast guess: p\nSorry. You're out of guesses.\n"
        },
        {
          "output_type": "execute_result",
          "execution_count": 1,
          "data": {
            "text/plain": "'p'"
          },
          "metadata": {}
        }
      ]
    },
    {
      "metadata": {},
      "cell_type": "markdown",
      "source": "### This \"pet conversation\" was a good way to show that the order of ifs, elifs, and elses matter in a conditionsal:"
    },
    {
      "metadata": {
        "trusted": true
      },
      "cell_type": "code",
      "source": "about_pet = input(\"Tell me something about your pet! What kind of animal is he/she?: \")\n\nif \"cat\" in about_pet.lower() and \"dog\" in about_pet.lower():\n    print(\"Dogs and cats are both cool.\")\nelif \"dog\" in about_pet.lower():\n    print(\"Ah, a dog!\")\nelif \"cat\" in about_pet.lower():\n    print(\"I love cats.\")\nprint(\"Thanks for the pet convo.\")",
      "execution_count": 3,
      "outputs": [
        {
          "output_type": "stream",
          "name": "stdout",
          "text": "Tell me something about your pet! What kind of animal is he/she?: i have a dog and a turtle\nAh, a dog!\nThanks for the pet convo.\n"
        }
      ]
    },
    {
      "metadata": {},
      "cell_type": "markdown",
      "source": "### This example showed me something I was missing about the return line of a return function."
    },
    {
      "metadata": {},
      "cell_type": "markdown",
      "source": "#### The challenge was to write a program (age_20(age)) that takes user input for the user's age, then subtracts 20 from it if the user is older than 20, or adds 20 if the user is younger than 20. A string should be printed showing the whole equation of that case (\"x + 20 = y\"). BUT: The function needs to RETURN THE NEW AGE. \n\nFirst I tried:"
    },
    {
      "metadata": {
        "trusted": true
      },
      "cell_type": "code",
      "source": "# [ ] complete age_20()\ndef age_20(age):\n    age = int(age)\n    if age > 20:\n        print(str(age),\"- 20 =\",age - 20)\n    elif age <= 20:\n        print(str(age),\"+ 20 =\",age + 20)\n    else:\n        print(\"error\")\n    return age\nage = input(\"How old are you? \")\nage_20(age)",
      "execution_count": 5,
      "outputs": [
        {
          "output_type": "stream",
          "name": "stdout",
          "text": "How old are you? 12\n12 + 20 = 32\n"
        },
        {
          "output_type": "execute_result",
          "execution_count": 5,
          "data": {
            "text/plain": "12"
          },
          "metadata": {}
        }
      ]
    },
    {
      "metadata": {},
      "cell_type": "markdown",
      "source": "#### It prints correctly, but returns the orginal age as the output.\n\nHere it is corrected to have the new age as the return value!!!"
    },
    {
      "metadata": {
        "trusted": true
      },
      "cell_type": "code",
      "source": "# [ ] complete age_20()\ndef age_20(age):\n    age = int(age)\n    if age > 20:\n        new_age = age - 20\n        print(str(age),\"- 20 =\",new_age)\n    elif age <= 20:\n        new_age = age + 20\n        print(str(age),\"+ 20 =\",new_age)\n    else:\n        print(\"error\")\n    return new_age\nage = input(\"How old are you? \")\nage_20(age)",
      "execution_count": 6,
      "outputs": [
        {
          "output_type": "stream",
          "name": "stdout",
          "text": "How old are you? 12\n12 + 20 = 32\n"
        },
        {
          "output_type": "execute_result",
          "execution_count": 6,
          "data": {
            "text/plain": "32"
          },
          "metadata": {}
        }
      ]
    },
    {
      "metadata": {
        "trusted": true
      },
      "cell_type": "markdown",
      "source": "# Required code activity for Module 3 (Conditionals)"
    },
    {
      "metadata": {},
      "cell_type": "markdown",
      "source": "#### Program: Cheese Order\n\n- set values for maximum and minimum order variables\n- set value for price variable\n- get order_amount input and cast to a number\n- check order_amount and give message checking against\n- over maximum\n- under minimum\n- else within maximum and minimum give message with calculated price\n"
    },
    {
      "metadata": {
        "trusted": true
      },
      "cell_type": "code",
      "source": "min_order = 2.22\nmax_order = 133.0\ncheese_price = 0.55\n\ndef cheese_order(order_amount):\n    order_amount = float(order_amount)\n    if order_amount > max_order:\n        order_price = order_amount * cheese_price\n        diff = order_amount - max_order\n        print(\"Your request is\",diff,\"oz over maximum\")\n    elif order_amount < min_order:\n        order_price = order_amount * cheese_price\n        diff = min_order - order_amount\n        print(\"Your request is\",diff,\"oz under minimum\")\n    else:\n        order_price = order_amount * cheese_price\n        order_price = order_amount * cheese_price\n        print(\"Your total is $\",order_price)\n    return order_price\n\norder_amount = input(\"How many ounces of cheese would you like?: \")\n\ncheese_order(order_amount)",
      "execution_count": 1,
      "outputs": [
        {
          "output_type": "stream",
          "name": "stdout",
          "text": "How many ounces of cheese would you like?: 8\nYour total is $ 4.4\n"
        },
        {
          "output_type": "execute_result",
          "execution_count": 1,
          "data": {
            "text/plain": "4.4"
          },
          "metadata": {}
        }
      ]
    },
    {
      "metadata": {},
      "cell_type": "markdown",
      "source": "# Nesting & Loops: Nested conditionals"
    },
    {
      "metadata": {},
      "cell_type": "markdown",
      "source": "- Nested conditionals allow subdecisions to be made by indenting\n"
    },
    {
      "metadata": {},
      "cell_type": "markdown",
      "source": "#### This is a simple example of using nested conditionals to make a sandwich order program, where the questions asked about your order are dependant on previous decisions."
    },
    {
      "metadata": {
        "trusted": true
      },
      "cell_type": "code",
      "source": "sandwich_type = input('\"c\" for Cheese or \"v\" for Veggie Special: ')\n\nif sandwich_type.lower() == \"c\":\n    # select cheese type\n    cheese_type = input('\"c\" for Cheddar or \"m\" for Manchego: ')\n    \n    if cheese_type.lower() == \"c\":\n        print(\"Here is your Cheddar Cheese sandwich\")\n    else:\n        print(\"Here is your Manchego Cheese sandwich\") \n\nelse:\n    print(\"Here is your Veggie Special\")",
      "execution_count": 2,
      "outputs": [
        {
          "output_type": "stream",
          "name": "stdout",
          "text": "\"c\" for Cheese or \"v\" for Veggie Special: v\nHere is your Veggie Special\n"
        }
      ]
    },
    {
      "metadata": {},
      "cell_type": "markdown",
      "source": "#### In this example, nested conditionals are used to give a user a certain number of attempts at entering input before ending the program:"
    },
    {
      "metadata": {
        "trusted": true
      },
      "cell_type": "code",
      "source": "birds = \"owl, robin, peacock, bluejay\"\nguess = input(\"Guess the bird: \")\n\nif guess.lower() in birds:\n    print(\"yes, 1st try!\")\nelse:\n    guess_again = input(\"Guess again: \")\n    if guess_again.lower() in birds:\n        print(\"Yes, 2nd try!\")\n    else:\n        last_guess = input(\"This is your final guess: \")\n        if last_guess.lower() in birds:\n            print(\"Yes, 3rd try!\")\n        else:\n            print(\"ya dun goofed\")",
      "execution_count": 3,
      "outputs": [
        {
          "output_type": "stream",
          "name": "stdout",
          "text": "Guess the bird: cat\nGuess again: dog\nThis is your final guess: bird\nya dun goofed\n"
        }
      ]
    },
    {
      "metadata": {},
      "cell_type": "markdown",
      "source": "# Nesting & Loops: Formatting with escape sequences \n## (print formatting)"
    },
    {
      "metadata": {},
      "cell_type": "markdown",
      "source": "- \\\\ - prints \\ (backslash)\n- \\' - prints ' (single quote)\n- \\t - prints a Tab\n- \\n - prints a Line Break\n\nWe use them in strings."
    },
    {
      "metadata": {
        "trusted": true
      },
      "cell_type": "code",
      "source": "# [ ] from 1 print statement output the text commented below using no spaces\n# One     Two     Three\n# Four    Five    Six\n\nprint(\"One\\tTwo\\tThree\\nFour\\tFive\\tSix\")",
      "execution_count": 4,
      "outputs": [
        {
          "output_type": "stream",
          "text": "One\tTwo\tThree\nFour\tFive\tSix\n",
          "name": "stdout"
        }
      ]
    },
    {
      "metadata": {},
      "cell_type": "markdown",
      "source": "# Nesting & Loops: while True loop"
    },
    {
      "metadata": {},
      "cell_type": "markdown",
      "source": "- A while True loop runs while a condition is True.\n- It's also known as an Infinity Loop because it runs forever unless told to \"break\".\n- The break command can be completed in response to a condition being no longer true in a conditional.\n- Then, the program moves on to the code after the while True loop indented code.\n"
    },
    {
      "metadata": {},
      "cell_type": "markdown",
      "source": "#### This simple code allows a user to keep inputting a guess until they guess the correct input. WHen that condition is met, the loop breaks."
    },
    {
      "metadata": {
        "trusted": true
      },
      "cell_type": "code",
      "source": "number_guess = \"0\"\nsecret_number = \"5\"\n\nwhile True:\n    number_guess = input(\"guess the number 1 to 5: \")\n    if number_guess == secret_number:\n        print(\"Yes\", number_guess,\"is correct!\\n\")\n        break\n    else:\n        print(number_guess,\"is incorrect\\n\")",
      "execution_count": 7,
      "outputs": [
        {
          "output_type": "stream",
          "name": "stdout",
          "text": "guess the number 1 to 5: 2\n2 is incorrect\n\nguess the number 1 to 5: 3\n3 is incorrect\n\nguess the number 1 to 5: 5\nYes 5 is correct!\n\n"
        }
      ]
    },
    {
      "metadata": {},
      "cell_type": "markdown",
      "source": "# Nesting & Loops: Incrementing a variable"
    },
    {
      "metadata": {},
      "cell_type": "markdown",
      "source": "This is how we count the number of loops so we can choose to break the loop after a certain number of runs. \n- number_loops = 0 gets initialized before the program starts\n- within the code, number_loops += 1 is used to increase the value by 1 each time its executed.\n- you can also count backward with \"-=\""
    },
    {
      "metadata": {},
      "cell_type": "markdown",
      "source": "#### This is a program that repeatedly asks for user input on what sizes of shirts they need, and once they type \"exit\" or exceed the available number of shirts, the loop breaks, and prints the tally of shirt sizes they requested and the total cost of their order."
    },
    {
      "metadata": {
        "trusted": true
      },
      "cell_type": "code",
      "source": "size_s = 0\nsize_m = 0\nsize_l = 0\nprice_s = 5.00\nprice_m = 7.00\nprice_l = 9.00\n\nwhile True:\n    shirt_size = input(\"What size are you looking for? Type Small, Medium, or Large, and type Exit when finished. Maximum of 6 per size, please. \")\n    shirt_size = shirt_size.lower()\n    \n    if shirt_size.startswith(\"s\"):\n        size_s += 1\n    elif shirt_size.startswith(\"m\"):\n        size_m += 1\n    elif shirt_size.startswith(\"l\"):\n        size_l += 1\n    elif shirt_size.startswith(\"e\"):\n        break\n    else:\n        print(\"invalid size entry.\")\n    if size_s >= 6:\n        print(\"Sorry, we don't have enough left in that size. \")\n        break\n    elif size_m >= 6:\n        print(\"Sorry, we don't have any shirts left in that size. \")\n        break\n    elif size_l >= 6:\n        print(\"Sorry, we don't have any shirts left in that size. \")\n        break\nprint(\"The total number of shirts requested are:\\n\",size_s,\"smalls,\\n\",size_m,\"mediums, and\\n\",size_l,\"larges\")    \ntotal_cost = (size_s * price_s) + (size_m * price_m) + (size_l * price_l)\nprint(\"The total cost of your order will be $\",total_cost)\n",
      "execution_count": 8,
      "outputs": [
        {
          "output_type": "stream",
          "name": "stdout",
          "text": "What size are you looking for? Type Small, Medium, or Large, and type Exit when finished. Maximum of 6 per size, please. s\nWhat size are you looking for? Type Small, Medium, or Large, and type Exit when finished. Maximum of 6 per size, please. m\nWhat size are you looking for? Type Small, Medium, or Large, and type Exit when finished. Maximum of 6 per size, please. s\nWhat size are you looking for? Type Small, Medium, or Large, and type Exit when finished. Maximum of 6 per size, please. s\nWhat size are you looking for? Type Small, Medium, or Large, and type Exit when finished. Maximum of 6 per size, please. l\nWhat size are you looking for? Type Small, Medium, or Large, and type Exit when finished. Maximum of 6 per size, please. exit\nThe total number of shirts requested are:\n 3 smalls,\n 1 mediums, and\n 1 larges\nThe total cost of your order will be $ 31.0\n"
        }
      ]
    },
    {
      "metadata": {},
      "cell_type": "markdown",
      "source": "I did it by number of shirts in stock but the example given was to allow them to choose a set number of shirts total that they can ask for, and then breaks. In that case you'd be counting down from one total integer to zero before breaking."
    },
    {
      "metadata": {},
      "cell_type": "markdown",
      "source": "# Nesting and Loops: while loops w/ Boolean comparisons"
    },
    {
      "metadata": {},
      "cell_type": "markdown",
      "source": "With increments you use the keyword \"break\" when the count becomes greater than some number.\n\n\"while (boolean comparison)\" achieves the same result."
    },
    {
      "metadata": {},
      "cell_type": "markdown",
      "source": "#### Program: Animal Names\n- Use while to get the user input, animal_name, of 4 animals\n- use a counter, num_animals, in the while loop condition\n- append the names to a string variable, all_animals\n-User can exit early by typing \"exit\" (check if animal_name is \"exit\" and break)\n-when the loop finishes, print the names of all_animals\n-bonus: print \"no animals\" if animal_name is empty after exiting the loop\n\nTip: Think about Sequence and variables that need to be initialized before the while loop"
    },
    {
      "metadata": {
        "trusted": true
      },
      "cell_type": "code",
      "source": "animal_name = \"\"\nall_animals = \"\"\nanimal_count = 4\n\nwhile animal_count > 0:\n    animal_name = input(\"Enter the name of an animal, or exit if you wish to leave the program: \")\n    if animal_name == \"exit\":\n        break\n    else:\n        all_animals = all_animals + \" \" + animal_name\n        animal_count -= 1\n    \nif animal_count == 0:\n    print(all_animals)\nelse:\n    print(\"No animals.\")",
      "execution_count": 1,
      "outputs": [
        {
          "output_type": "stream",
          "name": "stdout",
          "text": "Enter the name of an animal, or exit if you wish to leave the program: dog\nEnter the name of an animal, or exit if you wish to leave the program: cat\nEnter the name of an animal, or exit if you wish to leave the program: turtle\nEnter the name of an animal, or exit if you wish to leave the program: exit\nNo animals.\n"
        }
      ]
    },
    {
      "metadata": {},
      "cell_type": "markdown",
      "source": "### Using while with a Boolean String\n- Program: Long Number\n- Create variables\n- int_num and get user input string of only digits\n- long_num and initialize it as an empty string\n- Create a while loop that runs as long as the input is all digits\n- Inside the while loop, add int_num to the end of long_num and get user input for int_num again (inside while loop this time)\n- After the loop exits, print the value of long_num"
    },
    {
      "metadata": {
        "trusted": true
      },
      "cell_type": "code",
      "source": "int_num = input(\"Enter a number using digits only: \")\nlong_num = \"\"\n\nwhile int_num.isdigit():\n    long_num = long_num + \" \" + int_num\n    int_num = input(\"Enter a number using digits only: \")\n    \n    \nprint(long_num)\n\n# I originally had the two lines under the while line reversed, and it caused the\n# long_num string to be missing the first input digit and have the non-digit input to be present",
      "execution_count": 2,
      "outputs": [
        {
          "output_type": "stream",
          "name": "stdout",
          "text": "Enter a number using digits only: 2\nEnter a number using digits only: 3\nEnter a number using digits only: 1\nEnter a number using digits only: 2\nEnter a number using digits only: 3\nEnter a number using digits only: 4\nEnter a number using digits only: r\n 2 3 1 2 3 4\n"
        }
      ]
    },
    {
      "metadata": {},
      "cell_type": "markdown",
      "source": "### Program: quote_me() Function\nquote_me takes a string argument and returns a string that will display surrounded with added double quotes if printed\n\n- check if passed string starts with a double quote (\"\\\"\"), then surround string with single quotations\n- if the passed string starts with single quote, or if doesn't start with a quotation mark, then surround with double quotations\n- Test the function code passing string input as the argument to quote_me()"
    },
    {
      "metadata": {
        "trusted": true
      },
      "cell_type": "code",
      "source": "your_quote = input(\"What would you like to say? \")\n\ndef quote_me(your_quote):\n    formatted = '\\\"' + your_quote + '\\\"'\n    return formatted\n\nif quote_me(your_quote).startswith(\"\\\"\"):\n    print(quote_me(your_quote))\nelse:\n    print(\"hellllllppppppppp D:\")",
      "execution_count": 3,
      "outputs": [
        {
          "output_type": "stream",
          "name": "stdout",
          "text": "What would you like to say? lana del rey\n\"lana del rey\"\n"
        }
      ]
    },
    {
      "metadata": {
        "trusted": true
      },
      "cell_type": "code",
      "source": "",
      "execution_count": null,
      "outputs": []
    }
  ],
  "metadata": {
    "kernelspec": {
      "name": "python36",
      "display_name": "Python 3.6",
      "language": "python"
    },
    "language_info": {
      "mimetype": "text/x-python",
      "nbconvert_exporter": "python",
      "name": "python",
      "pygments_lexer": "ipython3",
      "version": "3.6.6",
      "file_extension": ".py",
      "codemirror_mode": {
        "version": 3,
        "name": "ipython"
      }
    }
  },
  "nbformat": 4,
  "nbformat_minor": 2
}